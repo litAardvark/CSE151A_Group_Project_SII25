{
  "nbformat": 4,
  "nbformat_minor": 0,
  "metadata": {
    "colab": {
      "provenance": [],
      "include_colab_link": true
    },
    "kernelspec": {
      "name": "python3",
      "display_name": "Python 3"
    },
    "language_info": {
      "name": "python"
    }
  },
  "cells": [
    {
      "cell_type": "markdown",
      "metadata": {
        "id": "view-in-github",
        "colab_type": "text"
      },
      "source": [
        "<a href=\"https://colab.research.google.com/github/litAardvark/CSE151A_Group_Project_SII25/blob/main/CSE151A_project.ipynb\" target=\"_parent\"><img src=\"https://colab.research.google.com/assets/colab-badge.svg\" alt=\"Open In Colab\"/></a>"
      ]
    },
    {
      "cell_type": "markdown",
      "source": [
        "# Abstract\n",
        "Abstract (Work in progress):\n",
        "\n",
        "Flight delays are a costly and frustrating inevitability for even the savviest of flyers. Itineraries that accurately account for delays stand to ease a major pain point for travelers on commercial airlines. Our project seeks to address this problem by predicting the length of flight delays using machine learning. To this end, we propose the use of a supervised Support Vector Regression model. Our proposed dataset contains flight data from 2009 to 2019, gathered from the US Department of Transportation's Bureau of Transportation Statistics. We plan to implement a machine learning pipeline for training and testing. The output of our final model will enable us to identify the variables associated with longer delays."
      ],
      "metadata": {
        "id": "-fwa715J-xss"
      }
    },
    {
      "cell_type": "markdown",
      "source": [
        "# Datasets\n",
        "\n",
        "**Dataset #1**: Airline Delay Analysis - contains relevant information about most US flights for a period of ten years beginning in 2009 and ending in 2019.\n",
        "\n",
        "Link: https://www.kaggle.com/datasets/sherrytp/airline-delay-analysis\n",
        "\n",
        "Location: /content/airline_delay_analysis\n"
      ],
      "metadata": {
        "id": "o2sBtLxb9yqg"
      }
    },
    {
      "cell_type": "markdown",
      "source": [
        "# Team\n",
        "\n",
        "Jason Bulux\n",
        "jbulux@ucsd.edu\n",
        "\n",
        "Rosario Ortiz\n",
        "mdortiz@ucsd.edu\n",
        "\n",
        "Kwadwo Danquah\n",
        "kdanquah@ucsd.edu\n",
        "\n",
        "Sam Kogan\n",
        "skogan@ucsd.edu"
      ],
      "metadata": {
        "id": "_eFoCKtA7Lp5"
      }
    },
    {
      "cell_type": "markdown",
      "source": [
        "# Setup"
      ],
      "metadata": {
        "id": "yT-dHs6Zc2SH"
      }
    },
    {
      "cell_type": "markdown",
      "source": [
        "[README](https://github.com/litAardvark/CSE151A_Group_Project_SII25/blob/main/README.md)"
      ],
      "metadata": {
        "id": "dDHy-QLLBirm"
      }
    },
    {
      "cell_type": "markdown",
      "source": [
        "Mounted G drive to be able to use kaggle API key to download and unzip the dataset into the session."
      ],
      "metadata": {
        "id": "gfctt4Hv71IV"
      }
    },
    {
      "cell_type": "code",
      "source": [
        "from google.colab import drive\n",
        "drive.mount('/content/drive')"
      ],
      "metadata": {
        "id": "gkmHcauZIUW5",
        "outputId": "f0d5ffd3-b4d0-4db3-b148-f0a6ed45ddd2",
        "colab": {
          "base_uri": "https://localhost:8080/"
        }
      },
      "execution_count": null,
      "outputs": [
        {
          "output_type": "stream",
          "name": "stdout",
          "text": [
            "Drive already mounted at /content/drive; to attempt to forcibly remount, call drive.mount(\"/content/drive\", force_remount=True).\n"
          ]
        }
      ]
    },
    {
      "cell_type": "markdown",
      "source": [
        "kaggle API key saved on Google Drive at the path:\n",
        "MyDrive/Colab Notebooks"
      ],
      "metadata": {
        "id": "GRrIBxbRUUkK"
      }
    },
    {
      "cell_type": "code",
      "source": [
        "!mkdir ~/.kaggle\n",
        "!cp '/content/drive/MyDrive/Colab Notebooks/kaggle.json' ~/.kaggle\n",
        "!chmod 600 ~/.kaggle/kaggle.json"
      ],
      "metadata": {
        "id": "djYo9U0JJBzq",
        "colab": {
          "base_uri": "https://localhost:8080/"
        },
        "outputId": "33935425-a420-4df6-d6d1-28e7e2d4e31b"
      },
      "execution_count": null,
      "outputs": [
        {
          "output_type": "stream",
          "name": "stdout",
          "text": [
            "mkdir: cannot create directory ‘/root/.kaggle’: File exists\n"
          ]
        }
      ]
    },
    {
      "cell_type": "markdown",
      "source": [
        "Download dataset from kaggle."
      ],
      "metadata": {
        "id": "Gr4xxE6zE0xz"
      }
    },
    {
      "cell_type": "code",
      "source": [
        "!kaggle datasets download -d sherrytp/airline-delay-analysis"
      ],
      "metadata": {
        "id": "-zPIrGZEKJx7",
        "colab": {
          "base_uri": "https://localhost:8080/"
        },
        "outputId": "c2100b56-eb85-408e-9036-58c23b6d23b9"
      },
      "execution_count": null,
      "outputs": [
        {
          "output_type": "stream",
          "name": "stdout",
          "text": [
            "Dataset URL: https://www.kaggle.com/datasets/sherrytp/airline-delay-analysis\n",
            "License(s): DbCL-1.0\n",
            "airline-delay-analysis.zip: Skipping, found more recently modified local copy (use --force to force download)\n"
          ]
        }
      ]
    },
    {
      "cell_type": "markdown",
      "source": [
        "Unzip it into the session."
      ],
      "metadata": {
        "id": "_EJkQDd1FDnk"
      }
    },
    {
      "cell_type": "code",
      "metadata": {
        "id": "05d39b55",
        "colab": {
          "base_uri": "https://localhost:8080/"
        },
        "outputId": "a09344dc-3846-4743-9b58-9a9a95953d9c"
      },
      "source": [
        "!unzip airline-delay-analysis.zip"
      ],
      "execution_count": null,
      "outputs": [
        {
          "output_type": "stream",
          "name": "stdout",
          "text": [
            "Archive:  airline-delay-analysis.zip\n",
            "replace airline delay analysis/20.csv? [y]es, [n]o, [A]ll, [N]one, [r]ename: "
          ]
        }
      ]
    },
    {
      "cell_type": "markdown",
      "source": [
        "**DATA EXPLORATION**\n",
        "\n",
        "Check for empty cells and duplicated rows in the dataset."
      ],
      "metadata": {
        "id": "YJ0BehS9bp-T"
      }
    },
    {
      "cell_type": "code",
      "source": [
        "import pandas as pd\n",
        "\n",
        "total_empty_cells = 0\n",
        "duplicates = 0\n",
        "\n",
        "print(\"checking dataset for missing and duplicated data\")\n",
        "filepath = '/content/airline delay analysis'\n",
        "\n",
        "# The chosen csv files will be combined into one df\n",
        "concatenated_df = pd.DataFrame()\n",
        "\n",
        "for d in range(2018, 2019): #The loop excludes the endpoint\n",
        "  print(\"checking \", d)\n",
        "  df = pd.read_csv(f'{filepath}/{d}.csv')\n",
        "# Drop empty columns and rows\n",
        "  df = df.dropna(axis=1, how='all')\n",
        "  df = df.dropna(axis=0, how='all')\n",
        "# Check remaining columns for empty cells\n",
        "  empty_cells = df.isnull().sum()\n",
        "  concatenated_df = pd.concat([concatenated_df, df])\n",
        "  #print(empty_cells)\n",
        "  total_empty_cells += empty_cells.sum()\n",
        "  duplicates += df.duplicated().sum()\n",
        "\n",
        "print(\"total empty cells:\", total_empty_cells)\n",
        "print(\"duplicates:\", duplicates)\n",
        "print(\"total rows:\", len(concatenated_df))\n",
        "print(\"total columns:\", len(concatenated_df.columns))\n",
        "print(\"columns:\", concatenated_df.columns.to_list())"
      ],
      "metadata": {
        "id": "xBKDj8fiZV8w",
        "colab": {
          "base_uri": "https://localhost:8080/"
        },
        "outputId": "32082d7f-6407-4735-afcd-c01667e5a72f"
      },
      "execution_count": 8,
      "outputs": [
        {
          "output_type": "stream",
          "name": "stdout",
          "text": [
            "checking dataset for missing and duplicated data\n",
            "checking  2018\n",
            "total empty cells: 37625423\n",
            "duplicates: 0\n",
            "total rows: 7213446\n",
            "total columns: 27\n",
            "columns: ['FL_DATE', 'OP_CARRIER', 'OP_CARRIER_FL_NUM', 'ORIGIN', 'DEST', 'CRS_DEP_TIME', 'DEP_TIME', 'DEP_DELAY', 'TAXI_OUT', 'WHEELS_OFF', 'WHEELS_ON', 'TAXI_IN', 'CRS_ARR_TIME', 'ARR_TIME', 'ARR_DELAY', 'CANCELLED', 'CANCELLATION_CODE', 'DIVERTED', 'CRS_ELAPSED_TIME', 'ACTUAL_ELAPSED_TIME', 'AIR_TIME', 'DISTANCE', 'CARRIER_DELAY', 'WEATHER_DELAY', 'NAS_DELAY', 'SECURITY_DELAY', 'LATE_AIRCRAFT_DELAY']\n"
          ]
        }
      ]
    },
    {
      "cell_type": "markdown",
      "source": [
        "**ALWAYS RUN 5TH CELL AGAIN BEFORE RUNNING EITHER OF THE CELLS BELOW**"
      ],
      "metadata": {
        "id": "0IRlpPm1XjbR"
      }
    },
    {
      "cell_type": "markdown",
      "source": [
        "Re-run 5th cell before running the cell below."
      ],
      "metadata": {
        "id": "D8vg6KzkXAXX"
      }
    },
    {
      "cell_type": "code",
      "source": [
        "#Checking dataset info if target = ARR_DELAY\n",
        "\n",
        "# Define the columns to scan\n",
        "selected_columns = ['FL_DATE', 'OP_CARRIER', 'ORIGIN', 'DEST', 'CRS_DEP_TIME', 'DEP_DELAY', 'DISTANCE', 'CRS_ELAPSED_TIME', 'ARR_DELAY']\n",
        "# Filter out rows where 'CANCELLED' is 0\n",
        "concatenated_df = concatenated_df[concatenated_df['CANCELLED'] != 1]\n",
        "concatenated_df = concatenated_df[concatenated_df['DIVERTED'] != 1]\n",
        "concatenated_df.drop(columns=['CANCELLED'], inplace=True)\n",
        "concatenated_df.drop(columns=['DIVERTED'], inplace=True)\n",
        "# Select only the specified columns\n",
        "feature_df = concatenated_df[selected_columns]\n",
        "target_df = concatenated_df['ARR_DELAY']\n",
        "\n",
        "print(\"features:\", feature_df.columns.to_list())\n",
        "print(\"feature shape:\", feature_df.shape)\n",
        "#print(\"target shape:\", target_df.shape)"
      ],
      "metadata": {
        "id": "MUJuABklW6GC",
        "colab": {
          "base_uri": "https://localhost:8080/"
        },
        "outputId": "f90f630c-8719-4406-97d7-54d582769503"
      },
      "execution_count": 10,
      "outputs": [
        {
          "output_type": "stream",
          "name": "stdout",
          "text": [
            "features: ['FL_DATE', 'OP_CARRIER', 'ORIGIN', 'DEST', 'CRS_DEP_TIME', 'DEP_DELAY', 'DISTANCE', 'CRS_ELAPSED_TIME', 'ARR_DELAY']\n",
            "feature shape: (7079005, 9)\n"
          ]
        }
      ]
    },
    {
      "cell_type": "markdown",
      "source": [
        "##Exploratory Data Analysis"
      ],
      "metadata": {
        "id": "gjx6L6TopnA5"
      }
    },
    {
      "cell_type": "code",
      "source": [
        "import seaborn as sns\n",
        "import matplotlib.pyplot as plt\n",
        "\n",
        "numerical_cols = feature_df.select_dtypes(include=[\"number\"]).columns\n",
        "sns.heatmap(feature_df[numerical_cols],\n",
        "            annot=True,\n",
        "            linewidth=.5,\n",
        "            cmap = sns.color_palette(\"magma\", as_cmap=True))"
      ],
      "metadata": {
        "id": "DHWAi6zMpvgY"
      },
      "execution_count": null,
      "outputs": []
    },
    {
      "cell_type": "code",
      "source": [
        "sns.barplot(feature_df, x=\"OP_CARRIER\", y=\"ARR_DELAY\")\n",
        "sns.barplot(feature_df, x=\"DEST\", y=\"ARR_DELAY\")\n",
        "sns.barplot(feature_df, x=\"ORIGIN\", Y=\"ARR_DELAY\")"
      ],
      "metadata": {
        "id": "VAB8RZzCqCjZ"
      },
      "execution_count": null,
      "outputs": []
    },
    {
      "cell_type": "code",
      "source": [
        "pp = sns.pairplot(df_2018_select, hue=\"OP_CARRIER\")"
      ],
      "metadata": {
        "id": "qXOior803itt"
      },
      "execution_count": null,
      "outputs": []
    },
    {
      "cell_type": "code",
      "source": [
        "import seaborn as sns\n",
        "import matplotlib.pyplot as plt\n",
        "\n",
        "# select features\n",
        "features = ['CRS_DEP_TIME', 'DEP_DELAY', 'DISTANCE', 'CRS_ELAPSED_TIME']\n",
        "df_corr = pd.concat([concatenated_df[features].copy(), target_df], axis = 1)\n",
        "\n",
        "\n",
        "# compute corr matrix\n",
        "corr = df_corr.corr()\n",
        "\n",
        "# plot heatmap\n",
        "plt.figure(figsize=(10, 6))\n",
        "sns.heatmap(corr, annot=True, vmin = -1, vmax = 1, cmap=\"coolwarm\", fmt=\".2f\")\n",
        "plt.show()"
      ],
      "metadata": {
        "id": "DtfkTmgl6rhA",
        "colab": {
          "base_uri": "https://localhost:8080/",
          "height": 528
        },
        "outputId": "d18092ca-9835-4fdb-e65d-a90d4ae84f8c"
      },
      "execution_count": 11,
      "outputs": [
        {
          "output_type": "display_data",
          "data": {
            "text/plain": [
              "<Figure size 1000x600 with 2 Axes>"
            ],
            "image/png": "[encoded data removed]"
          },
          "metadata": {}
        }
      ]
    },
    {
      "cell_type": "code",
      "source": [],
      "metadata": {
        "id": "0a1c3DfK7BhG"
      },
      "execution_count": null,
      "outputs": []
    }
  ]
}