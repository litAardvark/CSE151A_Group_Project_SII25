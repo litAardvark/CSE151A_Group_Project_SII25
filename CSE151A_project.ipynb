{
  "nbformat": 4,
  "nbformat_minor": 0,
  "metadata": {
    "colab": {
      "provenance": [],
      "include_colab_link": true
    },
    "kernelspec": {
      "name": "python3",
      "display_name": "Python 3"
    },
    "language_info": {
      "name": "python"
    }
  },
  "cells": [
    {
      "cell_type": "markdown",
      "metadata": {
        "id": "view-in-github",
        "colab_type": "text"
      },
      "source": [
        "<a href=\"https://colab.research.google.com/github/litAardvark/CSE151A_Group_Project_SII25/blob/main/CSE151A_project.ipynb\" target=\"_parent\"><img src=\"https://colab.research.google.com/assets/colab-badge.svg\" alt=\"Open In Colab\"/></a>"
      ]
    },
    {
      "cell_type": "markdown",
      "source": [
        "# Abstract\n",
        "Abstract (Work in progress):\n",
        "\n",
        "Flight delays are a costly and frustrating inevitability for even the savviest of flyers. Itineraries that accurately account for delays stand to ease a major pain point for travelers on commercial airlines. Our project seeks to address this problem by predicting the length of flight delays using machine learning. To this end, we propose the use of a supervised Support Vector Regression model. Our proposed dataset contains flight data from 2009 to 2019, gathered from the US Department of Transportation's Bureau of Transportation Statistics. We plan to implement a machine learning pipeline for training and testing. The output of our final model will enable us to identify the variables associated with longer delays."
      ],
      "metadata": {
        "id": "-fwa715J-xss"
      }
    },
    {
      "cell_type": "markdown",
      "source": [
        "# Datasets\n",
        "\n",
        "**Dataset #1**: Airline Delay Analysis - contains relevant information about most US flights for a period of ten years beginning in 2009 and ending in 2019.\n",
        "\n",
        "Link: https://www.kaggle.com/datasets/sherrytp/airline-delay-analysis\n",
        "\n",
        "Location: /content/airline_delay_analysis\n"
      ],
      "metadata": {
        "id": "o2sBtLxb9yqg"
      }
    },
    {
      "cell_type": "markdown",
      "source": [
        "# Team\n",
        "\n",
        "Jason Bulux\n",
        "jbulux@ucsd.edu\n",
        "\n",
        "Rosario Ortiz\n",
        "mdortiz@ucsd.edu\n",
        "\n",
        "Kwadwo Danquah\n",
        "kdanquah@ucsd.edu\n",
        "\n",
        "Sam Kogan\n",
        "skogan@ucsd.edu"
      ],
      "metadata": {
        "id": "_eFoCKtA7Lp5"
      }
    },
    {
      "cell_type": "markdown",
      "source": [
        "# Setup"
      ],
      "metadata": {
        "id": "yT-dHs6Zc2SH"
      }
    },
    {
      "cell_type": "markdown",
      "source": [
        "Mounted G drive to be able to use kaggle API key to download and unzip the dataset into the session."
      ],
      "metadata": {
        "id": "gfctt4Hv71IV"
      }
    },
    {
      "cell_type": "code",
      "source": [
        "from google.colab import drive\n",
        "drive.mount('/content/drive')"
      ],
      "metadata": {
        "colab": {
          "base_uri": "https://localhost:8080/"
        },
        "id": "gkmHcauZIUW5",
        "outputId": "26a82247-626f-4b76-fd59-f9144aa5ae87"
      },
      "execution_count": null,
      "outputs": [
        {
          "output_type": "stream",
          "name": "stdout",
          "text": [
            "Mounted at /content/drive\n"
          ]
        }
      ]
    },
    {
      "cell_type": "markdown",
      "source": [
        "kaggle API key saved on Google Drive at the path:\n",
        "MyDrive/Colab Notebooks"
      ],
      "metadata": {
        "id": "GRrIBxbRUUkK"
      }
    },
    {
      "cell_type": "code",
      "source": [
        "!mkdir ~/.kaggle\n",
        "!cp '/content/drive/MyDrive/Colab Notebooks/kaggle.json' ~/.kaggle\n",
        "!chmod 600 ~/.kaggle/kaggle.json"
      ],
      "metadata": {
        "colab": {
          "base_uri": "https://localhost:8080/"
        },
        "id": "djYo9U0JJBzq",
        "outputId": "4c17f68f-859a-45d7-9cb5-bab6844276bf"
      },
      "execution_count": null,
      "outputs": [
        {
          "output_type": "stream",
          "name": "stdout",
          "text": [
            "mkdir: cannot create directory ‘/root/.kaggle’: File exists\n"
          ]
        }
      ]
    },
    {
      "cell_type": "code",
      "source": [
        "!kaggle datasets download -d sherrytp/airline-delay-analysis"
      ],
      "metadata": {
        "colab": {
          "base_uri": "https://localhost:8080/"
        },
        "id": "-zPIrGZEKJx7",
        "outputId": "72de2930-d761-47c4-cbe6-aa2fd64ce83e"
      },
      "execution_count": null,
      "outputs": [
        {
          "output_type": "stream",
          "name": "stdout",
          "text": [
            "Dataset URL: https://www.kaggle.com/datasets/sherrytp/airline-delay-analysis\n",
            "License(s): DbCL-1.0\n",
            "Downloading airline-delay-analysis.zip to /content\n",
            " 99% 2.17G/2.19G [00:31<00:00, 103MB/s] \n",
            "100% 2.19G/2.19G [00:31<00:00, 74.1MB/s]\n"
          ]
        }
      ]
    },
    {
      "cell_type": "code",
      "metadata": {
        "colab": {
          "base_uri": "https://localhost:8080/"
        },
        "id": "05d39b55",
        "outputId": "7d478613-5aac-4773-f160-1c05d3090854"
      },
      "source": [
        "!unzip airline-delay-analysis.zip"
      ],
      "execution_count": null,
      "outputs": [
        {
          "output_type": "stream",
          "name": "stdout",
          "text": [
            "Archive:  airline-delay-analysis.zip\n",
            "replace airline delay analysis/20.csv? [y]es, [n]o, [A]ll, [N]one, [r]ename: "
          ]
        }
      ]
    },
    {
      "cell_type": "markdown",
      "source": [
        "**DATA EXPLORATION**\n",
        "\n",
        "Check for empty cells and duplicated rows in the dataset."
      ],
      "metadata": {
        "id": "YJ0BehS9bp-T"
      }
    },
    {
      "cell_type": "code",
      "source": [
        "import pandas as pd\n",
        "\n",
        "total_empty_cells = 0\n",
        "duplicates = 0\n",
        "\n",
        "print(\"checking dataset for missing and duplicated data\")\n",
        "filepath = '/content/airline delay analysis'\n",
        "for d in range(2009, 2020):\n",
        "  print(\"checking \", d)\n",
        "  df = pd.read_csv(f'{filepath}/{d}.csv')\n",
        "  empty_cells = df.isnull().sum()\n",
        "  print(empty_cells)\n",
        "  total_empty_cells += empty_cells.sum()\n",
        "  duplicates += df.duplicated().sum()\n",
        "print(\"total empty cells:\", total_empty_cells)\n",
        "print(\"duplicates:\", duplicates)"
      ],
      "metadata": {
        "colab": {
          "base_uri": "https://localhost:8080/"
        },
        "id": "xBKDj8fiZV8w",
        "outputId": "b7970327-4781-4e34-a05b-55e8f785803c"
      },
      "execution_count": 41,
      "outputs": [
        {
          "output_type": "stream",
          "name": "stdout",
          "text": [
            "checking dataset for missing and duplicated data\n",
            "checking  2009\n",
            "FL_DATE                      0\n",
            "OP_CARRIER                   0\n",
            "OP_CARRIER_FL_NUM            0\n",
            "ORIGIN                       0\n",
            "DEST                         0\n",
            "CRS_DEP_TIME                 0\n",
            "DEP_TIME                 82867\n",
            "DEP_DELAY                82867\n",
            "TAXI_OUT                 85787\n",
            "WHEELS_OFF               85787\n",
            "WHEELS_ON                89322\n",
            "TAXI_IN                  89321\n",
            "CRS_ARR_TIME                 0\n",
            "ARR_TIME                 89322\n",
            "ARR_DELAY               102361\n",
            "CANCELLED                    0\n",
            "CANCELLATION_CODE      6342300\n",
            "DIVERTED                     0\n",
            "CRS_ELAPSED_TIME             0\n",
            "ACTUAL_ELAPSED_TIME     102362\n",
            "AIR_TIME                102361\n",
            "DISTANCE                     0\n",
            "CARRIER_DELAY          5258837\n",
            "WEATHER_DELAY          5258837\n",
            "NAS_DELAY              5258837\n",
            "SECURITY_DELAY         5258837\n",
            "LATE_AIRCRAFT_DELAY    5258837\n",
            "Unnamed: 27            6429338\n",
            "dtype: int64\n",
            "checking  2010\n",
            "FL_DATE                      0\n",
            "OP_CARRIER                   0\n",
            "OP_CARRIER_FL_NUM            0\n",
            "ORIGIN                       0\n",
            "DEST                         0\n",
            "CRS_DEP_TIME                 0\n",
            "DEP_TIME                108777\n",
            "DEP_DELAY               108777\n",
            "TAXI_OUT                111949\n",
            "WHEELS_OFF              111949\n",
            "WHEELS_ON               116060\n",
            "TAXI_IN                 116060\n",
            "CRS_ARR_TIME                 0\n",
            "ARR_TIME                116060\n",
            "ARR_DELAY               128729\n",
            "CANCELLED                    0\n",
            "CANCELLATION_CODE      6336862\n",
            "DIVERTED                     0\n",
            "CRS_ELAPSED_TIME            17\n",
            "ACTUAL_ELAPSED_TIME     128729\n",
            "AIR_TIME                128729\n",
            "DISTANCE                     0\n",
            "CARRIER_DELAY          5275233\n",
            "WEATHER_DELAY          5275233\n",
            "NAS_DELAY              5275233\n",
            "SECURITY_DELAY         5275233\n",
            "LATE_AIRCRAFT_DELAY    5275233\n",
            "Unnamed: 27            6450117\n",
            "dtype: int64\n",
            "checking  2011\n",
            "FL_DATE                      0\n",
            "OP_CARRIER                   0\n",
            "OP_CARRIER_FL_NUM            0\n",
            "ORIGIN                       0\n",
            "DEST                         0\n",
            "CRS_DEP_TIME                 0\n",
            "DEP_TIME                111699\n",
            "DEP_DELAY               111699\n",
            "TAXI_OUT                114894\n",
            "WHEELS_OFF              114894\n",
            "WHEELS_ON               118560\n",
            "TAXI_IN                 118560\n",
            "CRS_ARR_TIME                 0\n",
            "ARR_TIME                118560\n",
            "ARR_DELAY               130440\n",
            "CANCELLED                    0\n",
            "CANCELLATION_CODE      5950614\n",
            "DIVERTED                     0\n",
            "CRS_ELAPSED_TIME             2\n",
            "ACTUAL_ELAPSED_TIME     130440\n",
            "AIR_TIME                130440\n",
            "DISTANCE                     0\n",
            "CARRIER_DELAY          4956119\n",
            "WEATHER_DELAY          4956119\n",
            "NAS_DELAY              4956119\n",
            "SECURITY_DELAY         4956119\n",
            "LATE_AIRCRAFT_DELAY    4956119\n",
            "Unnamed: 27            6066650\n",
            "dtype: int64\n",
            "checking  2012\n",
            "FL_DATE                      0\n",
            "OP_CARRIER                   0\n",
            "OP_CARRIER_FL_NUM            0\n",
            "ORIGIN                       0\n",
            "DEST                         0\n",
            "CRS_DEP_TIME                 1\n",
            "DEP_TIME                 75723\n",
            "DEP_DELAY                75723\n",
            "TAXI_OUT                 77977\n",
            "WHEELS_OFF               77977\n",
            "WHEELS_ON                80894\n",
            "TAXI_IN                  80894\n",
            "CRS_ARR_TIME                 2\n",
            "ARR_TIME                 80894\n",
            "ARR_DELAY                91381\n",
            "CANCELLED                    0\n",
            "CANCELLATION_CODE      6017900\n",
            "DIVERTED                     0\n",
            "CRS_ELAPSED_TIME             1\n",
            "ACTUAL_ELAPSED_TIME      91381\n",
            "AIR_TIME                 91381\n",
            "DISTANCE                     0\n",
            "CARRIER_DELAY          5081604\n",
            "WEATHER_DELAY          5081604\n",
            "NAS_DELAY              5081604\n",
            "SECURITY_DELAY         5081604\n",
            "LATE_AIRCRAFT_DELAY    5081604\n",
            "Unnamed: 27            6096762\n",
            "dtype: int64\n",
            "checking  2013\n",
            "FL_DATE                      0\n",
            "OP_CARRIER                   0\n",
            "OP_CARRIER_FL_NUM            0\n",
            "ORIGIN                       0\n",
            "DEST                         0\n",
            "CRS_DEP_TIME                 0\n",
            "DEP_TIME                 91681\n",
            "DEP_DELAY                91681\n",
            "TAXI_OUT                 94903\n",
            "WHEELS_OFF               94903\n",
            "WHEELS_ON                98275\n",
            "TAXI_IN                  98275\n",
            "CRS_ARR_TIME                 0\n",
            "ARR_TIME                 98275\n",
            "ARR_DELAY               110172\n",
            "CANCELLED                    0\n",
            "CANCELLATION_CODE      6273470\n",
            "DIVERTED                     0\n",
            "CRS_ELAPSED_TIME             5\n",
            "ACTUAL_ELAPSED_TIME     110172\n",
            "AIR_TIME                110172\n",
            "DISTANCE                     0\n",
            "CARRIER_DELAY          5100205\n",
            "WEATHER_DELAY          5100205\n",
            "NAS_DELAY              5100205\n",
            "SECURITY_DELAY         5100205\n",
            "LATE_AIRCRAFT_DELAY    5100205\n",
            "Unnamed: 27            6369482\n",
            "dtype: int64\n",
            "checking  2014\n",
            "FL_DATE                      0\n",
            "OP_CARRIER                   0\n",
            "OP_CARRIER_FL_NUM            0\n",
            "ORIGIN                       0\n",
            "DEST                         0\n",
            "CRS_DEP_TIME                 0\n",
            "DEP_TIME                122742\n",
            "DEP_DELAY               122742\n",
            "TAXI_OUT                125951\n",
            "WHEELS_OFF              125951\n",
            "WHEELS_ON               129628\n",
            "TAXI_IN                 129628\n",
            "CRS_ARR_TIME                 0\n",
            "ARR_TIME                129628\n",
            "ARR_DELAY               141433\n",
            "CANCELLED                    0\n",
            "CANCELLATION_CODE      5692827\n",
            "DIVERTED                     0\n",
            "CRS_ELAPSED_TIME             6\n",
            "ACTUAL_ELAPSED_TIME     141433\n",
            "AIR_TIME                141433\n",
            "DISTANCE                     0\n",
            "CARRIER_DELAY          4579283\n",
            "WEATHER_DELAY          4579283\n",
            "NAS_DELAY              4579283\n",
            "SECURITY_DELAY         4579283\n",
            "LATE_AIRCRAFT_DELAY    4579283\n",
            "Unnamed: 27            5819811\n",
            "dtype: int64\n",
            "checking  2015\n",
            "FL_DATE                      0\n",
            "OP_CARRIER                   0\n",
            "OP_CARRIER_FL_NUM            0\n",
            "ORIGIN                       0\n",
            "DEST                         0\n",
            "CRS_DEP_TIME                 0\n",
            "DEP_TIME                 86153\n",
            "DEP_DELAY                86153\n",
            "TAXI_OUT                 89047\n",
            "WHEELS_OFF               89047\n",
            "WHEELS_ON                92513\n",
            "TAXI_IN                  92513\n",
            "CRS_ARR_TIME                 0\n",
            "ARR_TIME                 92513\n",
            "ARR_DELAY               105071\n",
            "CANCELLED                    0\n",
            "CANCELLATION_CODE      5729195\n",
            "DIVERTED                     0\n",
            "CRS_ELAPSED_TIME             6\n",
            "ACTUAL_ELAPSED_TIME     105071\n",
            "AIR_TIME                105071\n",
            "DISTANCE                     0\n",
            "CARRIER_DELAY          4755640\n",
            "WEATHER_DELAY          4755640\n",
            "NAS_DELAY              4755640\n",
            "SECURITY_DELAY         4755640\n",
            "LATE_AIRCRAFT_DELAY    4755640\n",
            "Unnamed: 27            5819079\n",
            "dtype: int64\n",
            "checking  2016\n",
            "FL_DATE                      0\n",
            "OP_CARRIER                   0\n",
            "OP_CARRIER_FL_NUM            0\n",
            "ORIGIN                       0\n",
            "DEST                         0\n",
            "CRS_DEP_TIME                 0\n",
            "DEP_TIME                 63456\n",
            "DEP_DELAY                63456\n",
            "TAXI_OUT                 65418\n",
            "WHEELS_OFF               65418\n",
            "WHEELS_ON                67844\n",
            "TAXI_IN                  67844\n",
            "CRS_ARR_TIME                 0\n",
            "ARR_TIME                 67844\n",
            "ARR_DELAY                79513\n",
            "CANCELLED                    0\n",
            "CANCELLATION_CODE      5551797\n",
            "DIVERTED                     0\n",
            "CRS_ELAPSED_TIME             6\n",
            "ACTUAL_ELAPSED_TIME      79513\n",
            "AIR_TIME                 79513\n",
            "DISTANCE                     0\n",
            "CARRIER_DELAY          4653419\n",
            "WEATHER_DELAY          4653419\n",
            "NAS_DELAY              4653419\n",
            "SECURITY_DELAY         4653419\n",
            "LATE_AIRCRAFT_DELAY    4653419\n",
            "Unnamed: 27            5617658\n",
            "dtype: int64\n",
            "checking  2017\n",
            "FL_DATE                      0\n",
            "OP_CARRIER                   0\n",
            "OP_CARRIER_FL_NUM            0\n",
            "ORIGIN                       0\n",
            "DEST                         0\n",
            "CRS_DEP_TIME                 0\n",
            "DEP_TIME                 80308\n",
            "DEP_DELAY                80343\n",
            "TAXI_OUT                 82145\n",
            "WHEELS_OFF               82141\n",
            "WHEELS_ON                84674\n",
            "TAXI_IN                  84674\n",
            "CRS_ARR_TIME                 0\n",
            "ARR_TIME                 84674\n",
            "ARR_DELAY                95211\n",
            "CANCELLED                    0\n",
            "CANCELLATION_CODE      5591928\n",
            "DIVERTED                     0\n",
            "CRS_ELAPSED_TIME             7\n",
            "ACTUAL_ELAPSED_TIME      95211\n",
            "AIR_TIME                 95211\n",
            "DISTANCE                     0\n",
            "CARRIER_DELAY          4645148\n",
            "WEATHER_DELAY          4645148\n",
            "NAS_DELAY              4645148\n",
            "SECURITY_DELAY         4645148\n",
            "LATE_AIRCRAFT_DELAY    4645148\n",
            "Unnamed: 27            5674621\n",
            "dtype: int64\n",
            "checking  2018\n",
            "FL_DATE                      0\n",
            "OP_CARRIER                   0\n",
            "OP_CARRIER_FL_NUM            0\n",
            "ORIGIN                       0\n",
            "DEST                         0\n",
            "CRS_DEP_TIME                 0\n",
            "DEP_TIME                112317\n",
            "DEP_DELAY               117234\n",
            "TAXI_OUT                115830\n",
            "WHEELS_OFF              115829\n",
            "WHEELS_ON               119246\n",
            "TAXI_IN                 119246\n",
            "CRS_ARR_TIME                 0\n",
            "ARR_TIME                119245\n",
            "ARR_DELAY               137040\n",
            "CANCELLED                    0\n",
            "CANCELLATION_CODE      7096862\n",
            "DIVERTED                     0\n",
            "CRS_ELAPSED_TIME            10\n",
            "ACTUAL_ELAPSED_TIME     134442\n",
            "AIR_TIME                134442\n",
            "DISTANCE                     0\n",
            "CARRIER_DELAY          5860736\n",
            "WEATHER_DELAY          5860736\n",
            "NAS_DELAY              5860736\n",
            "SECURITY_DELAY         5860736\n",
            "LATE_AIRCRAFT_DELAY    5860736\n",
            "Unnamed: 27            7213446\n",
            "dtype: int64\n",
            "checking  2019\n",
            "FL_DATE                      0\n",
            "OP_UNIQUE_CARRIER            0\n",
            "OP_CARRIER_FL_NUM            0\n",
            "ORIGIN                       0\n",
            "DEST                         0\n",
            "DEP_TIME                130086\n",
            "DEP_DELAY               130110\n",
            "TAXI_OUT                133977\n",
            "WHEELS_OFF              133977\n",
            "WHEELS_ON               137647\n",
            "TAXI_IN                 137647\n",
            "ARR_TIME                137646\n",
            "ARR_DELAY               153805\n",
            "AIR_TIME                153805\n",
            "DISTANCE                     0\n",
            "CARRIER_DELAY          6032784\n",
            "WEATHER_DELAY          6032784\n",
            "NAS_DELAY              6032784\n",
            "SECURITY_DELAY         6032784\n",
            "LATE_AIRCRAFT_DELAY    6032784\n",
            "Unnamed: 20            7422037\n",
            "dtype: int64\n",
            "total empty cells: 421960658\n",
            "duplicates: 1039440\n"
          ]
        }
      ]
    },
    {
      "cell_type": "markdown",
      "source": [
        "**3. Do you have missing and duplicate values in your dataset?**\n",
        "\n",
        " There is a significant number of missing data. This includes some of the columns crucial to computing our target feature, total delayed time.\n",
        "\n",
        "\n",
        "**4. Note: For image data you can still describe your data by the number of classes, size of images, are sizes uniform? Do they need to be cropped? normalized? etc.**\n",
        "\n",
        "Some columns are categorical data, including date and time, that will require encoding. The yet uncomputed total delay time will have to be normalized.\n",
        "\n",
        "**6. How will you preprocess your data? Handle data imbalance if needed. You should only explain (do not perform pre-processing as that is in MS3) this in your README.md file and link your Jupyter notebook to it. All code and  Jupyter notebooks have be uploaded to your repo.**\n",
        "\n",
        "Missing data will be replaced with synthetic data computed from information available. Categorical and date/time data will be encoded. Our target feature is not explicit in the dataset so it will be computed. Since this is a regression model, we do not anticipate significant issues with data imbalances.\n",
        "\n",
        "\n",
        "**7. You must also include in your Jupyter Notebook, a link for data download and environment setup requirements**"
      ],
      "metadata": {
        "id": "RNdrn0wnaps9"
      }
    }
  ]
}