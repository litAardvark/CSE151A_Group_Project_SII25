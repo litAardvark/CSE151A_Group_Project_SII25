{
  "nbformat": 4,
  "nbformat_minor": 0,
  "metadata": {
    "colab": {
      "provenance": []
    },
    "kernelspec": {
      "name": "python3",
      "display_name": "Python 3"
    },
    "language_info": {
      "name": "python"
    }
  },
  "cells": [
    {
      "cell_type": "markdown",
      "source": [
        "# Abstract\n",
        "Abstract (Work in progress):\n",
        "\n",
        "Flight delays are a costly and frustrating inevitability for even the savviest of flyers. Itineraries that accurately account for delays stand to ease a major pain point for travelers on commercial airlines. Our project seeks to address this problem by predicting the length of flight delays using machine learning. To this end, we propose the use of a supervised Support Vector Regression model. Our proposed dataset contains flight data from 2009 to 2019, gathered from the US Department of Transportation's Bureau of Transportation Statistics. We plan to implement a machine learning pipeline for training and testing. The output of our final model will enable us to identify the variables associated with longer delays."
      ],
      "metadata": {
        "id": "-fwa715J-xss"
      }
    },
    {
      "cell_type": "markdown",
      "source": [
        "# Datasets\n",
        "\n",
        "**Dataset #1**: Airline Delay Analysis - contains relevant information about most US flights for a period of ten years beginning in 2009 and ending in 2019.\n",
        "\n",
        "Link: https://www.kaggle.com/datasets/sherrytp/airline-delay-analysis\n",
        "\n",
        "Location: /content/airline_delay_analysis\n"
      ],
      "metadata": {
        "id": "o2sBtLxb9yqg"
      }
    },
    {
      "cell_type": "markdown",
      "source": [
        "# Team\n",
        "\n",
        "Jason Bulux\n",
        "jbulux@ucsd.edu\n",
        "\n",
        "Rosario Ortiz\n",
        "mdortiz@ucsd.edu\n",
        "\n",
        "Kwadwo Danquah\n",
        "kdanquah@ucsd.edu\n",
        "\n",
        "Sam Kogan\n",
        "skogan@ucsd.edu"
      ],
      "metadata": {
        "id": "_eFoCKtA7Lp5"
      }
    },
    {
      "cell_type": "code",
      "source": [],
      "metadata": {
        "id": "-XK4-3_p2It-"
      },
      "execution_count": null,
      "outputs": []
    },
    {
      "cell_type": "code",
      "source": [],
      "metadata": {
        "id": "EmXw_oKl2Io8"
      },
      "execution_count": null,
      "outputs": []
    },
    {
      "cell_type": "code",
      "source": [],
      "metadata": {
        "id": "kJlEbQNt2IVd"
      },
      "execution_count": null,
      "outputs": []
    }
  ]
}