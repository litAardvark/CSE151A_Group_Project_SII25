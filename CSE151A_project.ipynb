{
  "nbformat": 4,
  "nbformat_minor": 0,
  "metadata": {
    "colab": {
      "provenance": [],
      "include_colab_link": true
    },
    "kernelspec": {
      "name": "python3",
      "display_name": "Python 3"
    },
    "language_info": {
      "name": "python"
    }
  },
  "cells": [
    {
      "cell_type": "markdown",
      "metadata": {
        "id": "view-in-github",
        "colab_type": "text"
      },
      "source": [
        "<a href=\"https://colab.research.google.com/github/litAardvark/CSE151A_Group_Project_SII25/blob/main/CSE151A_project.ipynb\" target=\"_parent\"><img src=\"https://colab.research.google.com/assets/colab-badge.svg\" alt=\"Open In Colab\"/></a>"
      ]
    },
    {
      "cell_type": "markdown",
      "source": [
        "# Abstract\n",
        "Abstract (Work in progress):\n",
        "\n",
        "Flight delays are a costly and frustrating inevitability for even the savviest of flyers. Itineraries that accurately account for delays stand to ease a major pain point for travelers on commercial airlines. Our project seeks to address this problem by predicting the length of flight delays using machine learning. To this end, we propose the use of a supervised Support Vector Regression model. Our proposed dataset contains flight data from 2009 to 2019, gathered from the US Department of Transportation's Bureau of Transportation Statistics. We plan to implement a machine learning pipeline for training and testing. The output of our final model will enable us to identify the variables associated with longer delays."
      ],
      "metadata": {
        "id": "-fwa715J-xss"
      }
    },
    {
      "cell_type": "markdown",
      "source": [
        "# Datasets\n",
        "\n",
        "**Dataset #1**: Airline Delay Analysis - contains relevant information about most US flights for a period of ten years beginning in 2009 and ending in 2019.\n",
        "\n",
        "Link: https://www.kaggle.com/datasets/sherrytp/airline-delay-analysis\n",
        "\n",
        "Location: /content/airline_delay_analysis\n"
      ],
      "metadata": {
        "id": "o2sBtLxb9yqg"
      }
    },
    {
      "cell_type": "markdown",
      "source": [
        "# Team\n",
        "\n",
        "Jason Bulux\n",
        "jbulux@ucsd.edu\n",
        "\n",
        "Rosario Ortiz\n",
        "mdortiz@ucsd.edu\n",
        "\n",
        "Kwadwo Danquah\n",
        "kdanquah@ucsd.edu\n",
        "\n",
        "Sam Kogan\n",
        "skogan@ucsd.edu"
      ],
      "metadata": {
        "id": "_eFoCKtA7Lp5"
      }
    },
    {
      "cell_type": "markdown",
      "source": [
        "# Setup"
      ],
      "metadata": {
        "id": "yT-dHs6Zc2SH"
      }
    },
    {
      "cell_type": "markdown",
      "source": [
        "[README](https://github.com/litAardvark/CSE151A_Group_Project_SII25/blob/main/README.md)"
      ],
      "metadata": {
        "id": "dDHy-QLLBirm"
      }
    },
    {
      "cell_type": "markdown",
      "source": [
        "Mounted G drive to be able to use kaggle API key to download and unzip the dataset into the session."
      ],
      "metadata": {
        "id": "gfctt4Hv71IV"
      }
    },
    {
      "cell_type": "code",
      "source": [
        "from google.colab import drive\n",
        "drive.mount('/content/drive')"
      ],
      "metadata": {
        "id": "gkmHcauZIUW5",
        "outputId": "0a94a630-88b3-4483-ab3a-595a7b0c9fc5",
        "colab": {
          "base_uri": "https://localhost:8080/"
        }
      },
      "execution_count": 1,
      "outputs": [
        {
          "output_type": "stream",
          "name": "stdout",
          "text": [
            "Mounted at /content/drive\n"
          ]
        }
      ]
    },
    {
      "cell_type": "markdown",
      "source": [
        "kaggle API key saved on Google Drive at the path:\n",
        "MyDrive/Colab Notebooks"
      ],
      "metadata": {
        "id": "GRrIBxbRUUkK"
      }
    },
    {
      "cell_type": "code",
      "source": [
        "!mkdir ~/.kaggle\n",
        "!cp '/content/drive/MyDrive/Colab Notebooks/kaggle.json' ~/.kaggle\n",
        "!chmod 600 ~/.kaggle/kaggle.json"
      ],
      "metadata": {
        "id": "djYo9U0JJBzq"
      },
      "execution_count": 2,
      "outputs": []
    },
    {
      "cell_type": "markdown",
      "source": [
        "Download dataset from kaggle."
      ],
      "metadata": {
        "id": "Gr4xxE6zE0xz"
      }
    },
    {
      "cell_type": "code",
      "source": [
        "!kaggle datasets download -d sherrytp/airline-delay-analysis"
      ],
      "metadata": {
        "id": "-zPIrGZEKJx7",
        "colab": {
          "base_uri": "https://localhost:8080/"
        },
        "outputId": "aae08fc1-48ae-4b13-eb82-d61f94ab5fcd"
      },
      "execution_count": 3,
      "outputs": [
        {
          "output_type": "stream",
          "name": "stdout",
          "text": [
            "Dataset URL: https://www.kaggle.com/datasets/sherrytp/airline-delay-analysis\n",
            "License(s): DbCL-1.0\n",
            "Downloading airline-delay-analysis.zip to /content\n",
            "100% 2.18G/2.19G [00:15<00:00, 144MB/s]\n",
            "100% 2.19G/2.19G [00:15<00:00, 149MB/s]\n"
          ]
        }
      ]
    },
    {
      "cell_type": "markdown",
      "source": [
        "Unzip it into the session."
      ],
      "metadata": {
        "id": "_EJkQDd1FDnk"
      }
    },
    {
      "cell_type": "code",
      "metadata": {
        "id": "05d39b55",
        "colab": {
          "base_uri": "https://localhost:8080/"
        },
        "outputId": "15075677-e113-41fb-a70e-07795edbff05"
      },
      "source": [
        "!unzip airline-delay-analysis.zip"
      ],
      "execution_count": 4,
      "outputs": [
        {
          "output_type": "stream",
          "name": "stdout",
          "text": [
            "Archive:  airline-delay-analysis.zip\n",
            "  inflating: airline delay analysis/20.csv  \n",
            "  inflating: airline delay analysis/2009.csv  \n",
            "  inflating: airline delay analysis/2010.csv  \n",
            "  inflating: airline delay analysis/2011.csv  \n",
            "  inflating: airline delay analysis/2012.csv  \n",
            "  inflating: airline delay analysis/2013.csv  \n",
            "  inflating: airline delay analysis/2014.csv  \n",
            "  inflating: airline delay analysis/2015.csv  \n",
            "  inflating: airline delay analysis/2016.csv  \n",
            "  inflating: airline delay analysis/2017.csv  \n",
            "  inflating: airline delay analysis/2018.csv  \n",
            "  inflating: airline delay analysis/2019.csv  \n"
          ]
        }
      ]
    },
    {
      "cell_type": "markdown",
      "source": [
        "**DATA EXPLORATION**\n",
        "\n",
        "Check for empty cells and duplicated rows in the dataset."
      ],
      "metadata": {
        "id": "YJ0BehS9bp-T"
      }
    },
    {
      "cell_type": "code",
      "source": [
        "import pandas as pd\n",
        "\n",
        "total_empty_cells = 0\n",
        "duplicates = 0\n",
        "\n",
        "print(\"checking dataset for missing and duplicated data\")\n",
        "filepath = '/content/airline delay analysis'\n",
        "concatenated_df = pd.DataFrame()\n",
        "\n",
        "for d in range(2018, 2020):\n",
        "  print(\"checking \", d)\n",
        "  df = pd.read_csv(f'{filepath}/{d}.csv')\n",
        "# Drop empty columns\n",
        "  df_cleaned = df.dropna(axis=1, how='all')\n",
        "\n",
        "# Check remaining columns for empty cells\n",
        "  empty_cells = df.isnull().sum()\n",
        "  concatenated_df = pd.concat([concatenated_df, df])\n",
        "  #print(empty_cells)\n",
        "  total_empty_cells += empty_cells.sum()\n",
        "  duplicates += df.duplicated().sum()\n",
        "\n",
        "print(\"total empty cells:\", total_empty_cells)\n",
        "print(\"duplicates:\", duplicates)\n",
        "print(\"total rows:\", len(concatenated_df))"
      ],
      "metadata": {
        "id": "xBKDj8fiZV8w",
        "colab": {
          "base_uri": "https://localhost:8080/"
        },
        "outputId": "bc621b65-a276-4536-c516-1e12d41a3a2a"
      },
      "execution_count": 2,
      "outputs": [
        {
          "output_type": "stream",
          "name": "stdout",
          "text": [
            "checking dataset for missing and duplicated data\n",
            "checking  2018\n",
            "checking  2019\n",
            "total empty cells: 83673526\n",
            "duplicates: 0\n",
            "total rows: 14635483\n"
          ]
        }
      ]
    },
    {
      "cell_type": "code",
      "source": [
        "# print(len(df))"
      ],
      "metadata": {
        "id": "rcatMdUKjnpZ"
      },
      "execution_count": null,
      "outputs": []
    }
  ]
}