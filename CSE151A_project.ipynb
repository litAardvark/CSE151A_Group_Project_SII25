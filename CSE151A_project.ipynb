{
  "nbformat": 4,
  "nbformat_minor": 0,
  "metadata": {
    "colab": {
      "provenance": [],
      "include_colab_link": true
    },
    "kernelspec": {
      "name": "python3",
      "display_name": "Python 3"
    },
    "language_info": {
      "name": "python"
    }
  },
  "cells": [
    {
      "cell_type": "markdown",
      "metadata": {
        "id": "view-in-github",
        "colab_type": "text"
      },
      "source": [
        "<a href=\"https://colab.research.google.com/github/litAardvark/CSE151A_Group_Project_SII25/blob/main/CSE151A_project.ipynb\" target=\"_parent\"><img src=\"https://colab.research.google.com/assets/colab-badge.svg\" alt=\"Open In Colab\"/></a>"
      ]
    },
    {
      "cell_type": "markdown",
      "source": [
        "# Abstract\n",
        "Abstract (Work in progress):\n",
        "\n",
        "Flight delays are a costly and frustrating inevitability for even the savviest of flyers. Itineraries that accurately account for delays stand to ease a major pain point for travelers on commercial airlines. Our project seeks to address this problem by predicting the length of flight delays using machine learning. To this end, we propose the use of a supervised Support Vector Regression model. Our proposed dataset contains flight data from 2009 to 2019, gathered from the US Department of Transportation's Bureau of Transportation Statistics. We plan to implement a machine learning pipeline for training and testing. The output of our final model will enable us to identify the variables associated with longer delays."
      ],
      "metadata": {
        "id": "-fwa715J-xss"
      }
    },
    {
      "cell_type": "markdown",
      "source": [
        "# Datasets\n",
        "\n",
        "**Dataset #1**: Airline Delay Analysis - contains relevant information about most US flights for a period of ten years beginning in 2009 and ending in 2019.\n",
        "\n",
        "Link: https://www.kaggle.com/datasets/sherrytp/airline-delay-analysis\n",
        "\n",
        "Location: /content/airline_delay_analysis\n"
      ],
      "metadata": {
        "id": "o2sBtLxb9yqg"
      }
    },
    {
      "cell_type": "markdown",
      "source": [
        "# Team\n",
        "\n",
        "Jason Bulux\n",
        "jbulux@ucsd.edu\n",
        "\n",
        "Rosario Ortiz\n",
        "mdortiz@ucsd.edu\n",
        "\n",
        "Kwadwo Danquah\n",
        "kdanquah@ucsd.edu\n",
        "\n",
        "Sam Kogan\n",
        "skogan@ucsd.edu"
      ],
      "metadata": {
        "id": "_eFoCKtA7Lp5"
      }
    },
    {
      "cell_type": "code",
      "source": [
        "from google.colab import drive\n",
        "drive.mount('/content/drive')"
      ],
      "metadata": {
        "colab": {
          "base_uri": "https://localhost:8080/"
        },
        "id": "gkmHcauZIUW5",
        "outputId": "26a82247-626f-4b76-fd59-f9144aa5ae87"
      },
      "execution_count": null,
      "outputs": [
        {
          "output_type": "stream",
          "name": "stdout",
          "text": [
            "Mounted at /content/drive\n"
          ]
        }
      ]
    },
    {
      "cell_type": "markdown",
      "source": [
        "Note: Download your kaggle API key and save it on your Google Drive at the path:\n",
        "MyDrive/Colab Notebooks"
      ],
      "metadata": {
        "id": "GRrIBxbRUUkK"
      }
    },
    {
      "cell_type": "code",
      "source": [
        "!mkdir ~/.kaggle\n",
        "!cp '/content/drive/MyDrive/Colab Notebooks/kaggle.json' ~/.kaggle\n",
        "!chmod 600 ~/.kaggle/kaggle.json"
      ],
      "metadata": {
        "colab": {
          "base_uri": "https://localhost:8080/"
        },
        "id": "djYo9U0JJBzq",
        "outputId": "4c17f68f-859a-45d7-9cb5-bab6844276bf"
      },
      "execution_count": null,
      "outputs": [
        {
          "output_type": "stream",
          "name": "stdout",
          "text": [
            "mkdir: cannot create directory ‘/root/.kaggle’: File exists\n"
          ]
        }
      ]
    },
    {
      "cell_type": "code",
      "source": [
        "!kaggle datasets download -d sherrytp/airline-delay-analysis"
      ],
      "metadata": {
        "colab": {
          "base_uri": "https://localhost:8080/"
        },
        "id": "-zPIrGZEKJx7",
        "outputId": "72de2930-d761-47c4-cbe6-aa2fd64ce83e"
      },
      "execution_count": null,
      "outputs": [
        {
          "output_type": "stream",
          "name": "stdout",
          "text": [
            "Dataset URL: https://www.kaggle.com/datasets/sherrytp/airline-delay-analysis\n",
            "License(s): DbCL-1.0\n",
            "Downloading airline-delay-analysis.zip to /content\n",
            " 99% 2.17G/2.19G [00:31<00:00, 103MB/s] \n",
            "100% 2.19G/2.19G [00:31<00:00, 74.1MB/s]\n"
          ]
        }
      ]
    },
    {
      "cell_type": "code",
      "metadata": {
        "colab": {
          "base_uri": "https://localhost:8080/"
        },
        "id": "05d39b55",
        "outputId": "7d478613-5aac-4773-f160-1c05d3090854"
      },
      "source": [
        "!unzip airline-delay-analysis.zip"
      ],
      "execution_count": null,
      "outputs": [
        {
          "output_type": "stream",
          "name": "stdout",
          "text": [
            "Archive:  airline-delay-analysis.zip\n",
            "replace airline delay analysis/20.csv? [y]es, [n]o, [A]ll, [N]one, [r]ename: "
          ]
        }
      ]
    }
  ]
}