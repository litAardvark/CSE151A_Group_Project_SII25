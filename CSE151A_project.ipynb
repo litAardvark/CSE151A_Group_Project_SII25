{
  "nbformat": 4,
  "nbformat_minor": 0,
  "metadata": {
    "colab": {
      "provenance": [],
      "include_colab_link": true
    },
    "kernelspec": {
      "name": "python3",
      "display_name": "Python 3"
    },
    "language_info": {
      "name": "python"
    }
  },
  "cells": [
    {
      "cell_type": "markdown",
      "metadata": {
        "id": "view-in-github",
        "colab_type": "text"
      },
      "source": [
        "<a href=\"https://colab.research.google.com/github/litAardvark/CSE151A_Group_Project_SII25/blob/main/CSE151A_project.ipynb\" target=\"_parent\"><img src=\"https://colab.research.google.com/assets/colab-badge.svg\" alt=\"Open In Colab\"/></a>"
      ]
    },
    {
      "cell_type": "markdown",
      "source": [
        "# Abstract\n",
        "Abstract (Work in progress):\n",
        "\n",
        "Flight delays are a costly and frustrating inevitability for even the savviest of flyers. Itineraries that accurately account for delays stand to ease a major pain point for travelers on commercial airlines. Our project seeks to address this problem by predicting the length of flight delays using machine learning. To this end, we propose the use of a supervised Support Vector Regression model. Our proposed dataset contains flight data from 2009 to 2019, gathered from the US Department of Transportation's Bureau of Transportation Statistics. We plan to implement a machine learning pipeline for training and testing. The output of our final model will enable us to identify the variables associated with longer delays."
      ],
      "metadata": {
        "id": "-fwa715J-xss"
      }
    },
    {
      "cell_type": "markdown",
      "source": [
        "# Datasets\n",
        "\n",
        "**Dataset #1**: Airline Delay Analysis - contains relevant information about most US flights for a period of ten years beginning in 2009 and ending in 2019.\n",
        "\n",
        "Link: https://www.kaggle.com/datasets/sherrytp/airline-delay-analysis\n",
        "\n",
        "Location: /content/airline_delay_analysis\n"
      ],
      "metadata": {
        "id": "o2sBtLxb9yqg"
      }
    },
    {
      "cell_type": "markdown",
      "source": [
        "# Team\n",
        "\n",
        "Jason Bulux\n",
        "jbulux@ucsd.edu\n",
        "\n",
        "Rosario Ortiz\n",
        "mdortiz@ucsd.edu\n",
        "\n",
        "Kwadwo Danquah\n",
        "kdanquah@ucsd.edu\n",
        "\n",
        "Sam Kogan\n",
        "skogan@ucsd.edu"
      ],
      "metadata": {
        "id": "_eFoCKtA7Lp5"
      }
    },
    {
      "cell_type": "markdown",
      "source": [
        "# Setup"
      ],
      "metadata": {
        "id": "yT-dHs6Zc2SH"
      }
    },
    {
      "cell_type": "markdown",
      "source": [
        "[README](https://github.com/litAardvark/CSE151A_Group_Project_SII25/blob/main/README.md)"
      ],
      "metadata": {
        "id": "dDHy-QLLBirm"
      }
    },
    {
      "cell_type": "markdown",
      "source": [
        "Mounted G drive to be able to use kaggle API key to download and unzip the dataset into the session."
      ],
      "metadata": {
        "id": "gfctt4Hv71IV"
      }
    },
    {
      "cell_type": "code",
      "source": [
        "from google.colab import drive\n",
        "drive.mount('/content/drive')"
      ],
      "metadata": {
        "id": "gkmHcauZIUW5",
        "outputId": "cc623048-48ba-45de-c10d-8d9c93df5221",
        "colab": {
          "base_uri": "https://localhost:8080/"
        }
      },
      "execution_count": 5,
      "outputs": [
        {
          "output_type": "stream",
          "name": "stdout",
          "text": [
            "Drive already mounted at /content/drive; to attempt to forcibly remount, call drive.mount(\"/content/drive\", force_remount=True).\n"
          ]
        }
      ]
    },
    {
      "cell_type": "markdown",
      "source": [
        "kaggle API key saved on Google Drive at the path:\n",
        "MyDrive/Colab Notebooks"
      ],
      "metadata": {
        "id": "GRrIBxbRUUkK"
      }
    },
    {
      "cell_type": "code",
      "source": [
        "!mkdir ~/.kaggle\n",
        "!cp '/content/drive/MyDrive/Colab Notebooks/kaggle.json' ~/.kaggle\n",
        "!chmod 600 ~/.kaggle/kaggle.json"
      ],
      "metadata": {
        "id": "djYo9U0JJBzq"
      },
      "execution_count": 9,
      "outputs": []
    },
    {
      "cell_type": "markdown",
      "source": [
        "Download dataset from kaggle."
      ],
      "metadata": {
        "id": "Gr4xxE6zE0xz"
      }
    },
    {
      "cell_type": "code",
      "source": [
        "!kaggle datasets download -d sherrytp/airline-delay-analysis"
      ],
      "metadata": {
        "id": "-zPIrGZEKJx7",
        "colab": {
          "base_uri": "https://localhost:8080/"
        },
        "outputId": "0aea8536-a09d-47c5-bb74-b04e344dec73"
      },
      "execution_count": 10,
      "outputs": [
        {
          "output_type": "stream",
          "name": "stdout",
          "text": [
            "Dataset URL: https://www.kaggle.com/datasets/sherrytp/airline-delay-analysis\n",
            "License(s): DbCL-1.0\n",
            "Downloading airline-delay-analysis.zip to /content\n",
            "100% 2.18G/2.19G [00:24<00:00, 280MB/s]\n",
            "100% 2.19G/2.19G [00:24<00:00, 95.7MB/s]\n"
          ]
        }
      ]
    },
    {
      "cell_type": "markdown",
      "source": [
        "Unzip it into the session."
      ],
      "metadata": {
        "id": "_EJkQDd1FDnk"
      }
    },
    {
      "cell_type": "code",
      "metadata": {
        "id": "05d39b55",
        "colab": {
          "base_uri": "https://localhost:8080/"
        },
        "outputId": "2e796fee-f78e-4885-c880-546ef5117942"
      },
      "source": [
        "!unzip airline-delay-analysis.zip"
      ],
      "execution_count": 11,
      "outputs": [
        {
          "output_type": "stream",
          "name": "stdout",
          "text": [
            "Archive:  airline-delay-analysis.zip\n",
            "  inflating: airline delay analysis/20.csv  \n",
            "  inflating: airline delay analysis/2009.csv  \n",
            "  inflating: airline delay analysis/2010.csv  \n",
            "  inflating: airline delay analysis/2011.csv  \n",
            "  inflating: airline delay analysis/2012.csv  \n",
            "  inflating: airline delay analysis/2013.csv  \n",
            "  inflating: airline delay analysis/2014.csv  \n",
            "  inflating: airline delay analysis/2015.csv  \n",
            "  inflating: airline delay analysis/2016.csv  \n",
            "  inflating: airline delay analysis/2017.csv  \n",
            "  inflating: airline delay analysis/2018.csv  \n",
            "  inflating: airline delay analysis/2019.csv  \n"
          ]
        }
      ]
    },
    {
      "cell_type": "markdown",
      "source": [
        "**DATA EXPLORATION**\n",
        "\n",
        "Check for empty cells and duplicated rows in the dataset."
      ],
      "metadata": {
        "id": "YJ0BehS9bp-T"
      }
    },
    {
      "cell_type": "code",
      "source": [
        "import pandas as pd\n",
        "\n",
        "total_empty_cells = 0\n",
        "duplicates = 0\n",
        "\n",
        "print(\"checking dataset for missing and duplicated data\")\n",
        "filepath = '/content/airline delay analysis'\n",
        "\n",
        "# The chosen csv files will be combined into one df\n",
        "concatenated_df = pd.DataFrame()\n",
        "\n",
        "for d in range(2018, 2019): #The loop excludes the endpoint\n",
        "  print(\"checking \", d)\n",
        "  df = pd.read_csv(f'{filepath}/{d}.csv')\n",
        "# Drop empty columns and rows\n",
        "  df = df.dropna(axis=1, how='all')\n",
        "  df = df.dropna(axis=0, how='all')\n",
        "# Check remaining columns for empty cells\n",
        "  empty_cells = df.isnull().sum()\n",
        "  concatenated_df = pd.concat([concatenated_df, df])\n",
        "  #print(empty_cells)\n",
        "  total_empty_cells += empty_cells.sum()\n",
        "  duplicates += df.duplicated().sum()\n",
        "\n",
        "print(\"total empty cells:\", total_empty_cells)\n",
        "print(\"duplicates:\", duplicates)\n",
        "print(\"total rows:\", len(concatenated_df))\n",
        "print(\"total columns:\", len(concatenated_df.columns))\n",
        "print(\"columns:\", concatenated_df.columns.to_list())"
      ],
      "metadata": {
        "id": "xBKDj8fiZV8w",
        "colab": {
          "base_uri": "https://localhost:8080/"
        },
        "outputId": "a5eeb42c-aa45-4e8d-8fb5-f46635d2d692"
      },
      "execution_count": 24,
      "outputs": [
        {
          "output_type": "stream",
          "name": "stdout",
          "text": [
            "checking dataset for missing and duplicated data\n",
            "checking  2018\n",
            "total empty cells: 37625423\n",
            "duplicates: 0\n",
            "total rows: 7213446\n",
            "total columns: 27\n",
            "columns: ['FL_DATE', 'OP_CARRIER', 'OP_CARRIER_FL_NUM', 'ORIGIN', 'DEST', 'CRS_DEP_TIME', 'DEP_TIME', 'DEP_DELAY', 'TAXI_OUT', 'WHEELS_OFF', 'WHEELS_ON', 'TAXI_IN', 'CRS_ARR_TIME', 'ARR_TIME', 'ARR_DELAY', 'CANCELLED', 'CANCELLATION_CODE', 'DIVERTED', 'CRS_ELAPSED_TIME', 'ACTUAL_ELAPSED_TIME', 'AIR_TIME', 'DISTANCE', 'CARRIER_DELAY', 'WEATHER_DELAY', 'NAS_DELAY', 'SECURITY_DELAY', 'LATE_AIRCRAFT_DELAY']\n"
          ]
        }
      ]
    },
    {
      "cell_type": "markdown",
      "source": [
        "**ALWAYS RUN 5TH CELL AGAIN BEFORE RUNNING EITHER OF THE CELLS BELOW**"
      ],
      "metadata": {
        "id": "0IRlpPm1XjbR"
      }
    },
    {
      "cell_type": "code",
      "source": [
        "#Checking dataset info if target = DEP_DELAY\n",
        "\n",
        "# Define the columns to scan\n",
        "selected_columns = ['FL_DATE', 'OP_CARRIER', 'ORIGIN', 'DEST', 'CRS_DEP_TIME', 'DISTANCE', 'CRS_ELAPSED_TIME', 'CANCELLED']\n",
        "# Filter out rows where 'CANCELLED' is 0\n",
        "concatenated_df = concatenated_df[concatenated_df['CANCELLED'] != 1]\n",
        "# Select only the specified columns\n",
        "feature_df = concatenated_df[selected_columns]\n",
        "target_df = concatenated_df['DEP_DELAY']\n",
        "\n",
        "print(\"features:\", feature_df.columns.to_list())\n",
        "print(\"feature shape:\", feature_df.shape)\n",
        "print(\"target shape:\", target_df.shape)"
      ],
      "metadata": {
        "colab": {
          "base_uri": "https://localhost:8080/"
        },
        "id": "7HAZExzgP0QS",
        "outputId": "d3ebdac4-089d-47af-a6ce-018ea897435b"
      },
      "execution_count": 19,
      "outputs": [
        {
          "output_type": "stream",
          "name": "stdout",
          "text": [
            "features: ['FL_DATE', 'OP_CARRIER', 'ORIGIN', 'DEST', 'CRS_DEP_TIME', 'DISTANCE', 'CANCELLED']\n",
            "feature shape: (7096862, 7)\n",
            "target shape: (7096862,)\n"
          ]
        }
      ]
    },
    {
      "cell_type": "markdown",
      "source": [
        "Re-run 5th cell before running the cell below."
      ],
      "metadata": {
        "id": "D8vg6KzkXAXX"
      }
    },
    {
      "cell_type": "code",
      "source": [
        "#Checking dataset info if target = ARR_DELAY\n",
        "\n",
        "# Define the columns to scan\n",
        "selected_columns = ['FL_DATE', 'OP_CARRIER', 'ORIGIN', 'DEST', 'CRS_DEP_TIME', 'DEP_DELAY', 'DISTANCE', 'CRS_ELAPSED_TIME']\n",
        "# Filter out rows where 'CANCELLED' is 0\n",
        "concatenated_df = concatenated_df[concatenated_df['CANCELLED'] != 1]\n",
        "concatenated_df.drop(columns=['CANCELLED'], inplace=True)\n",
        "# Select only the specified columns\n",
        "feature_df = concatenated_df[selected_columns]\n",
        "target_df = concatenated_df['ARR_DELAY']\n",
        "\n",
        "print(\"features:\", feature_df.columns.to_list())\n",
        "print(\"feature shape:\", feature_df.shape)\n",
        "print(\"target shape:\", target_df.shape)"
      ],
      "metadata": {
        "colab": {
          "base_uri": "https://localhost:8080/"
        },
        "id": "MUJuABklW6GC",
        "outputId": "c364821a-6b7a-4215-d844-d84ee49c7c8f"
      },
      "execution_count": 25,
      "outputs": [
        {
          "output_type": "stream",
          "name": "stdout",
          "text": [
            "features: ['FL_DATE', 'OP_CARRIER', 'ORIGIN', 'DEST', 'CRS_DEP_TIME', 'DEP_DELAY', 'DISTANCE', 'CRS_ELAPSED_TIME']\n",
            "feature shape: (7096862, 8)\n",
            "target shape: (7096862,)\n"
          ]
        }
      ]
    }
  ]
}